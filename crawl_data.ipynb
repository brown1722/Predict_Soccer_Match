{
 "cells": [
  {
   "cell_type": "code",
   "execution_count": 1,
   "metadata": {},
   "outputs": [],
   "source": [
    "import requests\n",
    "from bs4 import BeautifulSoup\n",
    "import pandas as pd\n",
    "import time"
   ]
  },
  {
   "cell_type": "code",
   "execution_count": 3,
   "metadata": {},
   "outputs": [],
   "source": [
    "def crawl_data(comp_standings_urls, year_max, year_min, output_filename, num_eg=0):\n",
    "    years = list(range(year_max, year_min, -1))\n",
    "    all_matches = []\n",
    "    eg = int(0)\n",
    "    num_eg_ = int(num_eg/10)\n",
    "    print(years)\n",
    "    for (standings_url, comp_cur) in comp_standings_urls:\n",
    "        for year in years:\n",
    "            data = requests.get(standings_url)\n",
    "            soup = BeautifulSoup(data.text)\n",
    "            standings_table = soup.select('table.stats_table')[0]\n",
    "\n",
    "            links = [l.get(\"href\") for l in standings_table.find_all('a')]\n",
    "            links = [l for l in links if '/squads/' in l]\n",
    "            team_urls = [f\"https://fbref.com{l}\" for l in links]\n",
    "            \n",
    "            previous_season = soup.select(\"a.prev\")[0].get(\"href\")\n",
    "            standings_url = f\"https://fbref.com{previous_season}\"\n",
    "            \n",
    "            for team_url in team_urls:\n",
    "                if num_eg_ > 0 and eg == num_eg_:\n",
    "                    match_df = pd.concat(all_matches)\n",
    "                    match_df.columns = [c.lower() for c in match_df.columns]\n",
    "                    match_df = match_df[0:num_eg-1]\n",
    "                    match_df.to_csv(output_filename)\n",
    "                    return\n",
    "                team_name = team_url.split(\"/\")[-1].replace(\"-Stats\", \"\").replace(\"-\", \" \")\n",
    "                data = requests.get(team_url)\n",
    "                matches = pd.read_html(data.text, match=\"Scores & Fixtures\")[0]\n",
    "                soup = BeautifulSoup(data.text)\n",
    "                links = [l.get(\"href\") for l in soup.find_all('a')]\n",
    "                links = [l for l in links if l and 'all_comps/shooting/' in l]\n",
    "                data = requests.get(f\"https://fbref.com{links[0]}\")\n",
    "                shooting = pd.read_html(data.text, match=\"Shooting\")[0]\n",
    "                shooting.columns = shooting.columns.droplevel()\n",
    "                try:\n",
    "                    team_data = matches.merge(shooting[[\"Date\", \"Sh\", \"SoT\", \"Dist\", \"FK\", \"PK\", \"PKatt\"]], on=\"Date\")\n",
    "                except ValueError:\n",
    "                    continue\n",
    "                team_data = team_data[team_data[\"Comp\"] == comp_cur]\n",
    "\n",
    "                team_data[\"Season\"] = year\n",
    "                team_data[\"Team\"] = team_name\n",
    "                all_matches.append(team_data)\n",
    "                eg += 1\n",
    "                time.sleep(1)\n",
    "    \n",
    "    match_df = pd.concat(all_matches)\n",
    "    match_df.columns = [c.lower() for c in match_df.columns]\n",
    "    match_df.to_csv(output_filename)\n",
    "    "
   ]
  },
  {
   "cell_type": "code",
   "execution_count": 2,
   "metadata": {},
   "outputs": [],
   "source": [
    "standings_Premier_Leagure_url = (\"https://fbref.com/en/comps/9/Premier-League-Stats\", \"Premier League\")\n",
    "standings_LaLiga_url = (\"https://fbref.com/en/comps/12/La-Liga-Stats\", \"La Liga\")\n",
    "standings_Bundesliga_url = (\"https://fbref.com/en/comps/20/Bundesliga-Stats\", \"Bundesliga\")\n"
   ]
  },
  {
   "cell_type": "code",
   "execution_count": 4,
   "metadata": {},
   "outputs": [],
   "source": [
    "urls_10000 = [standings_Premier_Leagure_url, standings_LaLiga_url, standings_Bundesliga_url]\n",
    "urls_1000 = [standings_Premier_Leagure_url]"
   ]
  },
  {
   "attachments": {},
   "cell_type": "markdown",
   "metadata": {},
   "source": [
    "### Dữ liệu cho 10 mẫu"
   ]
  },
  {
   "cell_type": "code",
   "execution_count": 26,
   "metadata": {},
   "outputs": [
    {
     "name": "stdout",
     "output_type": "stream",
     "text": [
      "[2023, 2022]\n"
     ]
    }
   ],
   "source": [
    "crawl_data(urls_1000, 2023, 2021, \"10_eg.csv\", 10)"
   ]
  },
  {
   "attachments": {},
   "cell_type": "markdown",
   "metadata": {},
   "source": [
    "### Dữ liệu cho 1000 mẫu"
   ]
  },
  {
   "cell_type": "code",
   "execution_count": 5,
   "metadata": {},
   "outputs": [
    {
     "name": "stdout",
     "output_type": "stream",
     "text": [
      "[2023, 2022]\n"
     ]
    }
   ],
   "source": [
    "crawl_data(urls_1000, 2023, 2021, \"1000_raw_data.csv\")"
   ]
  },
  {
   "attachments": {},
   "cell_type": "markdown",
   "metadata": {},
   "source": [
    "### Dữ liệu cho 10000 mẫu"
   ]
  },
  {
   "cell_type": "code",
   "execution_count": 6,
   "metadata": {},
   "outputs": [
    {
     "name": "stdout",
     "output_type": "stream",
     "text": [
      "[2023, 2022, 2021, 2020, 2019]\n"
     ]
    }
   ],
   "source": [
    "crawl_data(urls_10000, 2023, 2018, \"10000_raw_data.csv\") "
   ]
  },
  {
   "cell_type": "code",
   "execution_count": null,
   "metadata": {},
   "outputs": [],
   "source": []
  }
 ],
 "metadata": {
  "kernelspec": {
   "display_name": "ds-final",
   "language": "python",
   "name": "python3"
  },
  "language_info": {
   "codemirror_mode": {
    "name": "ipython",
    "version": 3
   },
   "file_extension": ".py",
   "mimetype": "text/x-python",
   "name": "python",
   "nbconvert_exporter": "python",
   "pygments_lexer": "ipython3",
   "version": "3.11.3"
  },
  "orig_nbformat": 4
 },
 "nbformat": 4,
 "nbformat_minor": 2
}
